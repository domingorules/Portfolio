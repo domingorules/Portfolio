{
 "cells": [
  {
   "cell_type": "markdown",
   "metadata": {
    "colab_type": "text",
    "id": "OeAOQ5KB34TP"
   },
   "source": [
    "# Pandas\n",
    "\n",
    "- pandas is an open source, BSD-licensed library providing high-performance, easy-to-use data structures and data analysis tools for the Python programming language\n",
    "- the most popular Python library for data analysis\n",
    "- pandas stands for \"*panel data*\": an econometrics term for multidimensional structured data sets\n",
    "- [Getting Started with Pandas - Pandas Documentation Page](https://pandas.pydata.org/docs/getting_started/index.html)"
   ]
  },
  {
   "cell_type": "code",
   "execution_count": 2,
   "metadata": {
    "colab": {},
    "colab_type": "code",
    "id": "Tq8TsKJA338t"
   },
   "outputs": [],
   "source": [
    "# import the pandas library\n",
    "import pandas as pd "
   ]
  },
  {
   "cell_type": "markdown",
   "metadata": {
    "colab_type": "text",
    "id": "2aVxJkIw_dqF"
   },
   "source": [
    "- There are two core objects in pandas: \n",
    "  - **DataFrame** \n",
    "  - **Series**"
   ]
  },
  {
   "cell_type": "markdown",
   "metadata": {
    "colab_type": "text",
    "id": "Aoa0blf-YU9f"
   },
   "source": [
    "# Creating Data"
   ]
  },
  {
   "cell_type": "markdown",
   "metadata": {
    "colab_type": "text",
    "id": "2acZqbP2BAGl"
   },
   "source": [
    "### DataFrame Creation\n",
    "\n",
    "- a DataFrame is a table \n",
    "  - it contains an array of individual entries \n",
    "  - each entry corresponds to a row and a column \n",
    "\n",
    "\n",
    "- use the `pd.DataFrame()` constructor to generate these DataFrame objects\n",
    "\n",
    "- the syntax for declaring a new DataFrame is a dictionary whose keys are the column names and whose values are a list of entries\n",
    "\n",
    "- this is the standard way of constructing a new DataFrame, and the one you are most likely to encounter"
   ]
  },
  {
   "cell_type": "code",
   "execution_count": 3,
   "metadata": {
    "colab": {},
    "colab_type": "code",
    "id": "HwfHP-4x3aAK"
   },
   "outputs": [
    {
     "data": {
      "text/html": [
       "<div>\n",
       "<style scoped>\n",
       "    .dataframe tbody tr th:only-of-type {\n",
       "        vertical-align: middle;\n",
       "    }\n",
       "\n",
       "    .dataframe tbody tr th {\n",
       "        vertical-align: top;\n",
       "    }\n",
       "\n",
       "    .dataframe thead th {\n",
       "        text-align: right;\n",
       "    }\n",
       "</style>\n",
       "<table border=\"1\" class=\"dataframe\">\n",
       "  <thead>\n",
       "    <tr style=\"text-align: right;\">\n",
       "      <th></th>\n",
       "      <th>Day</th>\n",
       "      <th>Night</th>\n",
       "    </tr>\n",
       "  </thead>\n",
       "  <tbody>\n",
       "    <tr>\n",
       "      <th>0</th>\n",
       "      <td>50</td>\n",
       "      <td>131</td>\n",
       "    </tr>\n",
       "    <tr>\n",
       "      <th>1</th>\n",
       "      <td>21</td>\n",
       "      <td>2</td>\n",
       "    </tr>\n",
       "  </tbody>\n",
       "</table>\n",
       "</div>"
      ],
      "text/plain": [
       "   Day  Night\n",
       "0   50    131\n",
       "1   21      2"
      ]
     },
     "execution_count": 3,
     "metadata": {},
     "output_type": "execute_result"
    }
   ],
   "source": [
    "# create a dictionary\n",
    "new_dictionary = {'Day': [50, 21], 'Night': [131, 2]}\n",
    "\n",
    "# create DataFrame from ditionary \n",
    "pd.DataFrame(new_dictionary)"
   ]
  },
  {
   "cell_type": "code",
   "execution_count": null,
   "metadata": {
    "colab": {},
    "colab_type": "code",
    "id": "M7wJiIbY6IrE"
   },
   "outputs": [],
   "source": [
    "# create a dictionary\n",
    "new_dictionary = {'Bob': ['I liked it.', 'It was awful.'], 'Sue': ['Pretty good.', 'Bland.']}\n",
    "\n",
    "# create DataFrame from dictionary\n",
    "pd.DataFrame(new_dictionary)"
   ]
  },
  {
   "cell_type": "markdown",
   "metadata": {
    "colab_type": "text",
    "id": "Cthp-N-gJcMi"
   },
   "source": [
    "- the dictionary-list constructor assigns values to the column labels, but just uses an ascending count from 0 (0, 1, 2, 3, ...) for the row labels"
   ]
  },
  {
   "cell_type": "markdown",
   "metadata": {
    "colab_type": "text",
    "id": "yr2ZN_iTBJV3"
   },
   "source": [
    "### Series Creation\n",
    "\n",
    "- a Series is a sequence of data values\n",
    "  - if a DataFrame is a table, a Series is a list\n",
    "\n",
    "- you can create one with nothing more than a list\n",
    "  - a Series is, in essence, a single column of a DataFrame"
   ]
  },
  {
   "cell_type": "code",
   "execution_count": null,
   "metadata": {
    "colab": {},
    "colab_type": "code",
    "id": "nkICS4dXZFs7"
   },
   "outputs": [],
   "source": [
    "# create a series from a python list\n",
    "pd.Series([1, 2, 3, 4, 5])"
   ]
  },
  {
   "cell_type": "markdown",
   "metadata": {
    "colab_type": "text",
    "id": "luMXUEp8ZW9X"
   },
   "source": [
    "- you can assign column values to the Series the same way as before, using an `index` parameter. \n",
    "\n",
    "- however, a Series does not have a column name, it only has one overall `name`"
   ]
  },
  {
   "cell_type": "code",
   "execution_count": null,
   "metadata": {
    "colab": {},
    "colab_type": "code",
    "id": "o_8AjdN5ZitU"
   },
   "outputs": [],
   "source": [
    "# create a series from a python list \n",
    "# add row index labels and seriss name \n",
    "pd.Series([30, 35, 40], index=['2015 Sales', '2016 Sales', '2017 Sales'], name='Product A')"
   ]
  },
  {
   "cell_type": "markdown",
   "metadata": {
    "colab_type": "text",
    "id": "cgTkqCNrZtWP"
   },
   "source": [
    "- the Series and the DataFrame are intimately related\n",
    "\n",
    "- it's helpful to think of a DataFrame as actually being just a bunch of Series \"glued together\""
   ]
  },
  {
   "cell_type": "markdown",
   "metadata": {
    "colab_type": "text",
    "id": "sfw7G8yQr884"
   },
   "source": [
    "![Dataframe and Series](https://i.imgur.com/MQCBcpLl.jpg)"
   ]
  },
  {
   "cell_type": "markdown",
   "metadata": {
    "colab_type": "text",
    "id": "j8XZeXy2AvhM"
   },
   "source": [
    "# Reading data files\n",
    "\n",
    "- we are reading the `train.csv` file from the kaggle housing price dataset \n",
    "\n",
    "- find the data files [here](https://www.kaggle.com/c/home-data-for-ml-course/data)\n",
    "  - find the \"Download All\" button and click it to download"
   ]
  },
  {
   "cell_type": "code",
   "execution_count": null,
   "metadata": {
    "colab": {},
    "colab_type": "code",
    "id": "nl6U0WJ8rT-X"
   },
   "outputs": [],
   "source": [
    "# read the csv from drive (from google drive in this case)\n",
    "data = pd.read_csv('/content/drive/My Drive/Datasets/home-data-for-ml-course/train.csv')\n",
    "# add your own path above to read the train.csv file"
   ]
  },
  {
   "cell_type": "code",
   "execution_count": null,
   "metadata": {
    "colab": {},
    "colab_type": "code",
    "id": "oAAOTfy71MsZ"
   },
   "outputs": [],
   "source": [
    "# check data head (first five rows) of the DataFrame\n",
    "data.head()"
   ]
  },
  {
   "cell_type": "code",
   "execution_count": null,
   "metadata": {
    "colab": {},
    "colab_type": "code",
    "id": "wq54tcqoWGY3"
   },
   "outputs": [],
   "source": [
    "# check data tail (last five rows) of the DataFrame\n",
    "data.tail()"
   ]
  },
  {
   "cell_type": "code",
   "execution_count": null,
   "metadata": {
    "colab": {},
    "colab_type": "code",
    "id": "Z0cQz5zwghW9"
   },
   "outputs": [],
   "source": [
    "# specify number of rows to show\n",
    "data.head(10)"
   ]
  },
  {
   "cell_type": "code",
   "execution_count": null,
   "metadata": {
    "colab": {},
    "colab_type": "code",
    "id": "2csJlpKSgmWn"
   },
   "outputs": [],
   "source": [
    "# specify number of rows to show\n",
    "data.head(7)"
   ]
  },
  {
   "cell_type": "code",
   "execution_count": null,
   "metadata": {
    "colab": {},
    "colab_type": "code",
    "id": "9Fc5brngguFo"
   },
   "outputs": [],
   "source": [
    "# specify number of rows to show\n",
    "data.tail(11)"
   ]
  },
  {
   "cell_type": "code",
   "execution_count": null,
   "metadata": {
    "colab": {},
    "colab_type": "code",
    "id": "RD8UcdUKgxd0"
   },
   "outputs": [],
   "source": [
    "# specify number of rows to show\n",
    "data.tail(3)"
   ]
  },
  {
   "cell_type": "markdown",
   "metadata": {
    "colab_type": "text",
    "id": "L0oWJISMsQ6E"
   },
   "source": [
    "# Native Accessors"
   ]
  },
  {
   "cell_type": "code",
   "execution_count": null,
   "metadata": {
    "colab": {},
    "colab_type": "code",
    "id": "IfOZUr2Tr66p"
   },
   "outputs": [],
   "source": [
    "# Access the DataFrame\n",
    "data"
   ]
  },
  {
   "cell_type": "code",
   "execution_count": null,
   "metadata": {
    "colab": {},
    "colab_type": "code",
    "id": "250Cgpl008IP"
   },
   "outputs": [],
   "source": [
    "# check the number of rows and columns in the DataFrame\n",
    "data.shape"
   ]
  },
  {
   "cell_type": "code",
   "execution_count": null,
   "metadata": {
    "colab": {},
    "colab_type": "code",
    "id": "UH6GsYnOsJkc"
   },
   "outputs": [],
   "source": [
    "# column labels\n",
    "data.columns"
   ]
  },
  {
   "cell_type": "code",
   "execution_count": null,
   "metadata": {
    "colab": {},
    "colab_type": "code",
    "id": "sMku2jFPtDUg"
   },
   "outputs": [],
   "source": [
    "# check the \"neighborhood\" column in 'data' DataFrame\n",
    "data.Neighborhood"
   ]
  },
  {
   "cell_type": "code",
   "execution_count": null,
   "metadata": {
    "colab": {},
    "colab_type": "code",
    "id": "YdOcQ-1eth0S"
   },
   "outputs": [],
   "source": [
    "# check the \"neighborhood\" column in 'data' DataFrame\n",
    "data['Neighborhood']"
   ]
  },
  {
   "cell_type": "code",
   "execution_count": null,
   "metadata": {
    "colab": {},
    "colab_type": "code",
    "id": "1L9xibyHtnLO"
   },
   "outputs": [],
   "source": [
    "# check the first entry in \"neighborhood\" column in 'data' DataFrame\n",
    "data['Neighborhood'][0]"
   ]
  },
  {
   "cell_type": "markdown",
   "metadata": {
    "colab_type": "text",
    "id": "nHCNiFCPt0_x"
   },
   "source": [
    "# Indexing in Pandas\n",
    "\n",
    "- the indexing operator and attribute selection work just like they do in the rest of the Python ecosystem\n",
    "\n",
    "- pandas also has its own accessor operators, `loc` and `iloc` for more advanced operations\n",
    "\n",
    "- Pandas indexing works in one of two paradigms\n",
    "  - `iloc`: index-based selection\n",
    "  - `loc`: label-based selection\n",
    "\n",
    "- both `loc` and `iloc` are row-first, column-second\n",
    "  - this is the opposite of what we do in native Python, which is column-first, row-second"
   ]
  },
  {
   "cell_type": "markdown",
   "metadata": {
    "colab_type": "text",
    "id": "VsBCvxBtt7Oc"
   },
   "source": [
    "### Index-based Selection: `iloc()`\n",
    "\n",
    "- the first paradigm is index-based selection \n",
    "  - it is selecting data based on its numerical position in the data \n",
    "  - `iloc` follows this paradigm"
   ]
  },
  {
   "cell_type": "code",
   "execution_count": null,
   "metadata": {
    "colab": {},
    "colab_type": "code",
    "id": "Qs9_mGud9-fF"
   },
   "outputs": [],
   "source": [
    "# select the first row of data in a DataFrame\n",
    "data.iloc[0]"
   ]
  },
  {
   "cell_type": "code",
   "execution_count": null,
   "metadata": {
    "colab": {},
    "colab_type": "code",
    "id": "tonrQfj3IvkZ"
   },
   "outputs": [],
   "source": [
    "# get the 11th column with iloc\n",
    "data.iloc[:,10]"
   ]
  },
  {
   "cell_type": "markdown",
   "metadata": {
    "colab_type": "text",
    "id": "w0Xv_LrNL00r"
   },
   "source": [
    "##### `:` operator \n",
    "\n",
    "- comes from native Python, means \"everything\". \n",
    "- when combined with other selectors, however, it can be used to indicate a range of values"
   ]
  },
  {
   "cell_type": "code",
   "execution_count": null,
   "metadata": {
    "colab": {},
    "colab_type": "code",
    "id": "uMB7JvdqL8eK"
   },
   "outputs": [],
   "source": [
    "# get the first three rows from the 11th column\n",
    "data.iloc[:3, 10]"
   ]
  },
  {
   "cell_type": "code",
   "execution_count": null,
   "metadata": {
    "colab": {},
    "colab_type": "code",
    "id": "c3uagjl_MKP1"
   },
   "outputs": [],
   "source": [
    "# get the 3rd and the 4th entries from the 11th column\n",
    "data.iloc[2:4,10]"
   ]
  },
  {
   "cell_type": "code",
   "execution_count": null,
   "metadata": {
    "colab": {},
    "colab_type": "code",
    "id": "dW-mpNgKMaFG"
   },
   "outputs": [],
   "source": [
    "# pass a `list` to get 5th, 6th and 7th elements from 11th column\n",
    "data.iloc[[4, 5, 6], 10]"
   ]
  },
  {
   "cell_type": "code",
   "execution_count": null,
   "metadata": {
    "colab": {},
    "colab_type": "code",
    "id": "rhS93qRANKd2"
   },
   "outputs": [],
   "source": [
    "# negative numbers can also be used in selection: last 5 rows of the DataFrame using -5 indexing\n",
    "data.iloc[-5:]"
   ]
  },
  {
   "cell_type": "markdown",
   "metadata": {
    "colab_type": "text",
    "id": "JbCrbGYet_hX"
   },
   "source": [
    "### Label-based Selection: `loc()` \n",
    "\n",
    "- second paradigm for attribute selection is the label-based selection\n",
    "- it's the data index value, not its position, which matters\n"
   ]
  },
  {
   "cell_type": "code",
   "execution_count": null,
   "metadata": {
    "colab": {},
    "colab_type": "code",
    "id": "_0HudIP3OthY"
   },
   "outputs": [],
   "source": [
    "# to get the first entry in reviews, we would now do the following\n",
    "data.loc[0,'Id']"
   ]
  },
  {
   "cell_type": "markdown",
   "metadata": {
    "colab_type": "text",
    "id": "D68s76ZVRAw0"
   },
   "source": [
    "### `loc()` vs `iloc()`\n",
    "\n",
    "- `iloc` is conceptually simpler than `loc` because it ignores the dataset's indices \n",
    "\n",
    "- when we use `iloc`, we treat the dataset like a big matrix (a list of lists), \n",
    "  - one that we have to index into by position. \n",
    "  \n",
    "- `loc`, by contrast, uses the information in the indices to do its work \n",
    "\n",
    "- since your dataset usually has meaningful indices, it's usually easier to do things using `loc` instead"
   ]
  },
  {
   "cell_type": "markdown",
   "metadata": {
    "colab_type": "text",
    "id": "rsZGhSj9Q0V5"
   },
   "source": [
    "##### Choosing between `loc()` and `iloc()`\n",
    "\n",
    "- when choosing or transitioning between `loc` and `iloc`, there is one \"gotcha\" worth keeping in mind, which is that the two methods use slightly different indexing schemes\n",
    "\n",
    "- `iloc` uses the Python stdlib indexing scheme, where the first element of the range is included and the last one excluded. So 0:10 will select entries 0,...,9. loc, meanwhile, indexes inclusively. So 0:10 will select entries 0,...,10\n"
   ]
  },
  {
   "cell_type": "markdown",
   "metadata": {
    "colab_type": "text",
    "id": "VNceCqGyuEay"
   },
   "source": [
    "# Manipulating the Index\n",
    "\n",
    "- Label-based selection derives its power from the labels in the index. \n",
    "- Critically, the index we use is not immutable. \n",
    "  - We can manipulate the index in any way we see fit."
   ]
  },
  {
   "cell_type": "code",
   "execution_count": null,
   "metadata": {
    "colab": {},
    "colab_type": "code",
    "id": "b2HYT47sT7Rc"
   },
   "outputs": [],
   "source": [
    "# change the row index to the iD column\n",
    "data.set_index('Id')"
   ]
  },
  {
   "cell_type": "markdown",
   "metadata": {
    "colab_type": "text",
    "id": "y5ZyXQhruSMM"
   },
   "source": [
    "# Conditional Selection"
   ]
  },
  {
   "cell_type": "markdown",
   "metadata": {
    "colab_type": "text",
    "id": "-4IDIyi8gZFZ"
   },
   "source": [
    "- find out all the uniue values that the Neighborhood can take using the `.unique()` built in function"
   ]
  },
  {
   "cell_type": "code",
   "execution_count": null,
   "metadata": {
    "colab": {},
    "colab_type": "code",
    "id": "Zav5goihVS0F"
   },
   "outputs": [],
   "source": [
    "data.Neighborhood.unique()"
   ]
  },
  {
   "cell_type": "markdown",
   "metadata": {
    "colab_type": "text",
    "id": "OwJ2y825gqZx"
   },
   "source": [
    "- then create a boolean filter using `==` operator "
   ]
  },
  {
   "cell_type": "code",
   "execution_count": null,
   "metadata": {
    "colab": {},
    "colab_type": "code",
    "id": "L_49Dsp2VjLx"
   },
   "outputs": [],
   "source": [
    "# create a simple boolean filter \n",
    "data.Neighborhood == 'Edwards'"
   ]
  },
  {
   "cell_type": "markdown",
   "metadata": {
    "colab_type": "text",
    "id": "GYfF9DJrg0_Z"
   },
   "source": [
    "- then extract entries from `data` DataFrame that match the filter condition"
   ]
  },
  {
   "cell_type": "code",
   "execution_count": null,
   "metadata": {
    "colab": {},
    "colab_type": "code",
    "id": "7-3GyoDlV5hX"
   },
   "outputs": [],
   "source": [
    "# use the boolean filter to extract data using `loc`\n",
    "data.loc[data.Neighborhood == 'Edwards']"
   ]
  },
  {
   "cell_type": "markdown",
   "metadata": {
    "colab_type": "text",
    "id": "S__QVEtQhDDy"
   },
   "source": [
    "- the output is all 100 entries that correspond to the filter specification of `Neghborhood == Edwards`"
   ]
  },
  {
   "cell_type": "markdown",
   "metadata": {
    "colab_type": "text",
    "id": "658OWXu8f9Gs"
   },
   "source": [
    "### `|` - the pipe operator: element wise OR\n",
    "\n",
    "- the pipe operator is used in creating a complex boolean filter \n",
    "  - multiple conditionals can be used to filter the data \n",
    "  - `|` follows OR logic"
   ]
  },
  {
   "cell_type": "code",
   "execution_count": null,
   "metadata": {
    "colab": {},
    "colab_type": "code",
    "id": "mocB1x9KMWCi"
   },
   "outputs": [],
   "source": [
    "# use boolean complex filter to extract entries\n",
    "data.loc[(data.Neighborhood == 'Edwards') | (data.LotFrontage >= 50.0)]"
   ]
  },
  {
   "cell_type": "markdown",
   "metadata": {
    "colab_type": "text",
    "id": "NJEbq9bwMNH-"
   },
   "source": [
    "### `&` - the 'ampersand' operator: element wise AND\n",
    "\n",
    "- this is similiar to `and` logical operator\n",
    "- use this to build complex queries in extracting specific entries "
   ]
  },
  {
   "cell_type": "code",
   "execution_count": null,
   "metadata": {
    "colab": {},
    "colab_type": "code",
    "id": "MeBzf8iMMMgb"
   },
   "outputs": [],
   "source": [
    "# use boolean complex filter to extract entries\n",
    "data.loc[(data.Neighborhood == 'Edwards') & (data.LotArea >= 5000)]"
   ]
  },
  {
   "cell_type": "markdown",
   "metadata": {
    "colab_type": "text",
    "id": "CNlVLokXutL2"
   },
   "source": [
    "# Assigning Data\n",
    "\n",
    "- going the other way, assigning data to a DataFrame is easy. \n",
    "\n",
    "- you can assign either a constant value, or with an iterable of values"
   ]
  },
  {
   "cell_type": "code",
   "execution_count": null,
   "metadata": {
    "colab": {},
    "colab_type": "code",
    "id": "bdV5wWcdO681"
   },
   "outputs": [],
   "source": [
    "# assign constant value to a newly created column \"Visitor\"\n",
    "data['Visitor'] = 'everyone'\n",
    "data['Visitor']"
   ]
  },
  {
   "cell_type": "code",
   "execution_count": null,
   "metadata": {
    "colab": {},
    "colab_type": "code",
    "id": "V6dwS1wDPfQP"
   },
   "outputs": [],
   "source": [
    "# assign a range of backwards index to a newly created column called \"index_backwards\"\n",
    "data['index_backwards'] = range(len(data), 0, -1)\n",
    "data['index_backwards']"
   ]
  },
  {
   "cell_type": "code",
   "execution_count": null,
   "metadata": {
    "colab": {},
    "colab_type": "code",
    "id": "ZuQV4YO9UhWx"
   },
   "outputs": [],
   "source": [
    "# check the columns headers for new columns added to the DataFrame\n",
    "data.columns"
   ]
  }
 ],
 "metadata": {
  "colab": {
   "collapsed_sections": [],
   "name": "Step_1_4a_Pandas_Series_and_DataFrames.ipynb",
   "provenance": []
  },
  "kernelspec": {
   "display_name": "Python 3",
   "language": "python",
   "name": "python3"
  },
  "language_info": {
   "codemirror_mode": {
    "name": "ipython",
    "version": 3
   },
   "file_extension": ".py",
   "mimetype": "text/x-python",
   "name": "python",
   "nbconvert_exporter": "python",
   "pygments_lexer": "ipython3",
   "version": "3.7.6"
  }
 },
 "nbformat": 4,
 "nbformat_minor": 1
}
